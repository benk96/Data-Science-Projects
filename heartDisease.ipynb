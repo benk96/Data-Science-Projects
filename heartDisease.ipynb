{
 "cells": [
  {
   "cell_type": "markdown",
   "metadata": {},
   "source": [
    "# Heart Disease Dataset"
   ]
  },
  {
   "cell_type": "markdown",
   "metadata": {},
   "source": [
    "This is a brief look at the heart disease dataset found at https://www.kaggle.com/ronitf/heart-disease-uci/home provided by Kaggle user ronit. We will attempt to create a model for predicting whether patients have heart disease or not.\n",
    "\n",
    "Acknowledgement to original creators:\n",
    "1. Hungarian Institute of Cardiology. Budapest: Andras Janosi, M.D. \n",
    "2. University Hospital, Zurich, Switzerland: William Steinbrunn, M.D. \n",
    "3. University Hospital, Basel, Switzerland: Matthias Pfisterer, M.D. \n",
    "4. V.A. Medical Center, Long Beach and Cleveland Clinic Foundation: Robert Detrano, M.D., Ph.D."
   ]
  },
  {
   "cell_type": "code",
   "execution_count": 1,
   "metadata": {},
   "outputs": [
    {
     "name": "stderr",
     "output_type": "stream",
     "text": [
      "Using TensorFlow backend.\n"
     ]
    }
   ],
   "source": [
    "#imports\n",
    "import pandas as pd\n",
    "import numpy as np\n",
    "import matplotlib.pyplot as plt\n",
    "import seaborn as sns\n",
    "from sklearn.model_selection import train_test_split\n",
    "from sklearn.linear_model import LogisticRegression\n",
    "from sklearn.model_selection import cross_val_score\n",
    "from keras.models import Sequential\n",
    "from keras.layers import Dense, Dropout\n",
    "%matplotlib inline"
   ]
  },
  {
   "cell_type": "code",
   "execution_count": 2,
   "metadata": {},
   "outputs": [],
   "source": [
    "heartData = pd.read_csv('heart-disease-uci/heart.csv')"
   ]
  },
  {
   "cell_type": "markdown",
   "metadata": {},
   "source": [
    "## Exploratory Data Analysis"
   ]
  },
  {
   "cell_type": "code",
   "execution_count": 3,
   "metadata": {},
   "outputs": [
    {
     "data": {
      "text/html": [
       "<div>\n",
       "<style scoped>\n",
       "    .dataframe tbody tr th:only-of-type {\n",
       "        vertical-align: middle;\n",
       "    }\n",
       "\n",
       "    .dataframe tbody tr th {\n",
       "        vertical-align: top;\n",
       "    }\n",
       "\n",
       "    .dataframe thead th {\n",
       "        text-align: right;\n",
       "    }\n",
       "</style>\n",
       "<table border=\"1\" class=\"dataframe\">\n",
       "  <thead>\n",
       "    <tr style=\"text-align: right;\">\n",
       "      <th></th>\n",
       "      <th>age</th>\n",
       "      <th>sex</th>\n",
       "      <th>cp</th>\n",
       "      <th>trestbps</th>\n",
       "      <th>chol</th>\n",
       "      <th>fbs</th>\n",
       "      <th>restecg</th>\n",
       "      <th>thalach</th>\n",
       "      <th>exang</th>\n",
       "      <th>oldpeak</th>\n",
       "      <th>slope</th>\n",
       "      <th>ca</th>\n",
       "      <th>thal</th>\n",
       "      <th>target</th>\n",
       "    </tr>\n",
       "  </thead>\n",
       "  <tbody>\n",
       "    <tr>\n",
       "      <th>0</th>\n",
       "      <td>63</td>\n",
       "      <td>1</td>\n",
       "      <td>3</td>\n",
       "      <td>145</td>\n",
       "      <td>233</td>\n",
       "      <td>1</td>\n",
       "      <td>0</td>\n",
       "      <td>150</td>\n",
       "      <td>0</td>\n",
       "      <td>2.3</td>\n",
       "      <td>0</td>\n",
       "      <td>0</td>\n",
       "      <td>1</td>\n",
       "      <td>1</td>\n",
       "    </tr>\n",
       "    <tr>\n",
       "      <th>1</th>\n",
       "      <td>37</td>\n",
       "      <td>1</td>\n",
       "      <td>2</td>\n",
       "      <td>130</td>\n",
       "      <td>250</td>\n",
       "      <td>0</td>\n",
       "      <td>1</td>\n",
       "      <td>187</td>\n",
       "      <td>0</td>\n",
       "      <td>3.5</td>\n",
       "      <td>0</td>\n",
       "      <td>0</td>\n",
       "      <td>2</td>\n",
       "      <td>1</td>\n",
       "    </tr>\n",
       "    <tr>\n",
       "      <th>2</th>\n",
       "      <td>41</td>\n",
       "      <td>0</td>\n",
       "      <td>1</td>\n",
       "      <td>130</td>\n",
       "      <td>204</td>\n",
       "      <td>0</td>\n",
       "      <td>0</td>\n",
       "      <td>172</td>\n",
       "      <td>0</td>\n",
       "      <td>1.4</td>\n",
       "      <td>2</td>\n",
       "      <td>0</td>\n",
       "      <td>2</td>\n",
       "      <td>1</td>\n",
       "    </tr>\n",
       "    <tr>\n",
       "      <th>3</th>\n",
       "      <td>56</td>\n",
       "      <td>1</td>\n",
       "      <td>1</td>\n",
       "      <td>120</td>\n",
       "      <td>236</td>\n",
       "      <td>0</td>\n",
       "      <td>1</td>\n",
       "      <td>178</td>\n",
       "      <td>0</td>\n",
       "      <td>0.8</td>\n",
       "      <td>2</td>\n",
       "      <td>0</td>\n",
       "      <td>2</td>\n",
       "      <td>1</td>\n",
       "    </tr>\n",
       "    <tr>\n",
       "      <th>4</th>\n",
       "      <td>57</td>\n",
       "      <td>0</td>\n",
       "      <td>0</td>\n",
       "      <td>120</td>\n",
       "      <td>354</td>\n",
       "      <td>0</td>\n",
       "      <td>1</td>\n",
       "      <td>163</td>\n",
       "      <td>1</td>\n",
       "      <td>0.6</td>\n",
       "      <td>2</td>\n",
       "      <td>0</td>\n",
       "      <td>2</td>\n",
       "      <td>1</td>\n",
       "    </tr>\n",
       "  </tbody>\n",
       "</table>\n",
       "</div>"
      ],
      "text/plain": [
       "   age  sex  cp  trestbps  chol  fbs  restecg  thalach  exang  oldpeak  slope  \\\n",
       "0   63    1   3       145   233    1        0      150      0      2.3      0   \n",
       "1   37    1   2       130   250    0        1      187      0      3.5      0   \n",
       "2   41    0   1       130   204    0        0      172      0      1.4      2   \n",
       "3   56    1   1       120   236    0        1      178      0      0.8      2   \n",
       "4   57    0   0       120   354    0        1      163      1      0.6      2   \n",
       "\n",
       "   ca  thal  target  \n",
       "0   0     1       1  \n",
       "1   0     2       1  \n",
       "2   0     2       1  \n",
       "3   0     2       1  \n",
       "4   0     2       1  "
      ]
     },
     "execution_count": 3,
     "metadata": {},
     "output_type": "execute_result"
    }
   ],
   "source": [
    "#A quick snapshot of the data\n",
    "heartData.head()"
   ]
  },
  {
   "cell_type": "markdown",
   "metadata": {},
   "source": [
    "-  age: age in years\n",
    "-  sex: 1 = male; 0 = female\n",
    "-  cp: chest pain type (0, 1, 2 or 3)\n",
    "-  trestbps: resting blood pressure (in mm Hg on admission to the hospital)\n",
    "-  chol: serum cholestoral in mg/dl\n",
    "-  fbs: fasting blood sugar > 120 mg/d (1 = true; 0 = false)\n",
    "-  restecg: resting electrocardiographic results\n",
    "-  thalach: maximum heart rate achieved\n",
    "-  exang: exercise induced angina (1 = yes; 0 = no)\n",
    "-  oldpeak: ST depression induced by exercise relative to rest\n",
    "-  slope: the slope of the peak exercise ST segment\n",
    "-  ca: number of major vessels (0-3) colored by flourosopy\n",
    "-  thal: 3 = normal; 6 = fixed defect; 7 = reversable defect\n",
    "-  target: whether the patient has heart disease or not (1=true; 0=false)"
   ]
  },
  {
   "cell_type": "code",
   "execution_count": 4,
   "metadata": {},
   "outputs": [
    {
     "data": {
      "text/plain": [
       "False"
      ]
     },
     "execution_count": 4,
     "metadata": {},
     "output_type": "execute_result"
    }
   ],
   "source": [
    "#Check for missing values\n",
    "heartData.isnull().values.any()"
   ]
  },
  {
   "cell_type": "markdown",
   "metadata": {},
   "source": [
    "There are no missing values in the dataset which makes things easier."
   ]
  },
  {
   "cell_type": "code",
   "execution_count": 5,
   "metadata": {},
   "outputs": [
    {
     "data": {
      "text/plain": [
       "1    165\n",
       "0    138\n",
       "Name: target, dtype: int64"
      ]
     },
     "execution_count": 5,
     "metadata": {},
     "output_type": "execute_result"
    }
   ],
   "source": [
    "heartData.target.value_counts()"
   ]
  },
  {
   "cell_type": "markdown",
   "metadata": {},
   "source": [
    "We see that in the dataset there are 165 patients with heart disease and 138 without. We now explore some of the rest of the data."
   ]
  },
  {
   "cell_type": "code",
   "execution_count": 6,
   "metadata": {},
   "outputs": [
    {
     "data": {
      "image/png": "[encoded data removed]",
      "text/plain": [
       "<Figure size 432x288 with 1 Axes>"
      ]
     },
     "metadata": {},
     "output_type": "display_data"
    }
   ],
   "source": [
    "#Illustrating the age breakdown for people with or without heart disease\n",
    "sns.boxplot(y='age', x='target', data=heartData, width=0.5)\n",
    "plt.xlabel('Heart Disease')\n",
    "plt.ylabel('Age')\n",
    "plt.show()"
   ]
  },
  {
   "cell_type": "markdown",
   "metadata": {},
   "source": [
    "We see here that the patients with heart disease have a slightly greater spread of ages and a slightly lower median age, this is likely just reflective of the dataset rather than an indication that people with heart disease tend to be younger, however."
   ]
  },
  {
   "cell_type": "code",
   "execution_count": 7,
   "metadata": {},
   "outputs": [
    {
     "data": {
      "text/plain": [
       "1    207\n",
       "0     96\n",
       "Name: sex, dtype: int64"
      ]
     },
     "execution_count": 7,
     "metadata": {},
     "output_type": "execute_result"
    }
   ],
   "source": [
    "heartData.sex.value_counts()"
   ]
  },
  {
   "cell_type": "markdown",
   "metadata": {},
   "source": [
    "The dataset contains a much larger portion of males compared to females."
   ]
  },
  {
   "cell_type": "code",
   "execution_count": 8,
   "metadata": {},
   "outputs": [
    {
     "data": {
      "image/png": "[encoded data removed]",
      "text/plain": [
       "<Figure size 432x288 with 1 Axes>"
      ]
     },
     "metadata": {},
     "output_type": "display_data"
    }
   ],
   "source": [
    "#Showing the number of patients with and without heart disease for males and females\n",
    "sns.countplot(x='sex',hue='target',data=heartData)\n",
    "plt.xlabel('Sex (1=male; 0=female)')\n",
    "plt.ylabel('Count')\n",
    "plt.show()"
   ]
  },
  {
   "cell_type": "markdown",
   "metadata": {},
   "source": [
    "We see that in the dataset the slight majority of the men don't have heart disease. In contrast, the majority of women in the dataset do have heart disease."
   ]
  },
  {
   "cell_type": "code",
   "execution_count": 9,
   "metadata": {},
   "outputs": [
    {
     "data": {
      "image/png": "[encoded data removed]",
      "text/plain": [
       "<Figure size 432x288 with 1 Axes>"
      ]
     },
     "metadata": {},
     "output_type": "display_data"
    }
   ],
   "source": [
    "#Showing the number of patients with and without heart disease\n",
    "#for each chest pain type\n",
    "sns.countplot(x='cp', hue='target',data=heartData)\n",
    "plt.xlabel('Chest Pain Type')\n",
    "plt.ylabel('Count')\n",
    "plt.show()"
   ]
  },
  {
   "cell_type": "markdown",
   "metadata": {},
   "source": [
    "The graph suggests that having types one, two or three chest pain indicates it is more likely the patient has heart disease while for type zero it doesn't."
   ]
  },
  {
   "cell_type": "code",
   "execution_count": 10,
   "metadata": {},
   "outputs": [
    {
     "data": {
      "image/png": "[encoded data removed]",
      "text/plain": [
       "<Figure size 432x288 with 1 Axes>"
      ]
     },
     "metadata": {},
     "output_type": "display_data"
    }
   ],
   "source": [
    "#Illustrating the resting blood pressure breakdown for people with\n",
    "#or without heart disease\n",
    "sns.boxplot(y='trestbps', x='target', data=heartData, width=0.5)\n",
    "plt.xlabel('Heart Disease')\n",
    "plt.ylabel('Resting Blood Pressure (mm Hg)')\n",
    "plt.show()"
   ]
  },
  {
   "cell_type": "markdown",
   "metadata": {},
   "source": [
    "This plot doesn't seem to indicate a whole lot, the two box plots are fairly similar. One might expect that the patients with heart disease would have higher blood pressure but this doesn't seem to be the case, with both having similar medians and the the heart disease patients having a lower maximum and minimum."
   ]
  },
  {
   "cell_type": "code",
   "execution_count": 11,
   "metadata": {},
   "outputs": [
    {
     "data": {
      "image/png": "[encoded data removed]",
      "text/plain": [
       "<Figure size 432x288 with 1 Axes>"
      ]
     },
     "metadata": {},
     "output_type": "display_data"
    }
   ],
   "source": [
    "#Illustrating the cholestrol breakdown for people with or without heart disease\n",
    "sns.boxplot(y='chol', x='target', data=heartData, width=0.5)\n",
    "plt.xlabel('Heart Disease')\n",
    "plt.ylabel('Serum Cholestrol (mg/dl)')\n",
    "plt.show()"
   ]
  },
  {
   "cell_type": "markdown",
   "metadata": {},
   "source": [
    "Both box plots are pretty similar with the heart disease patients actually having a lower median serum cholestrol. However, the heart disease patients did have more high outliers."
   ]
  },
  {
   "cell_type": "code",
   "execution_count": 12,
   "metadata": {},
   "outputs": [
    {
     "data": {
      "image/png": "[encoded data removed]",
      "text/plain": [
       "<Figure size 432x288 with 1 Axes>"
      ]
     },
     "metadata": {},
     "output_type": "display_data"
    }
   ],
   "source": [
    "#Showing the number of patients with fasting blood sugar > 120 mg/d with\n",
    "#and without heart disease\n",
    "sns.countplot(x='fbs', hue='target', data=heartData)\n",
    "plt.xlabel('Fasting Blood Sugar > 120 mg/d (1=true; 0=false)')\n",
    "plt.ylabel('Count')\n",
    "plt.show()"
   ]
  },
  {
   "cell_type": "markdown",
   "metadata": {},
   "source": [
    "NOTE: The rest of the graphs and analysis have been omitted for brevity."
   ]
  },
  {
   "cell_type": "markdown",
   "metadata": {},
   "source": [
    "## Classification"
   ]
  },
  {
   "cell_type": "markdown",
   "metadata": {},
   "source": [
    "From our earlier exploration we found that in the dataset there were 165 patients with heart disease and 138 without. This is fairly balanced so we will just use the percentage of correct predictions (accuracy) as our evaluation metric."
   ]
  },
  {
   "cell_type": "code",
   "execution_count": 13,
   "metadata": {},
   "outputs": [],
   "source": [
    "#Using scikit learn, split data into randomly selected training and test data sets, \n",
    "#picking a particular random seed for reproducibility\n",
    "X = heartData.drop('target',axis=1)\n",
    "y = heartData.target\n",
    "X_train, X_test, y_train, y_test = train_test_split(X, y, test_size=0.2, \n",
    "                                                    random_state=29)"
   ]
  },
  {
   "cell_type": "markdown",
   "metadata": {},
   "source": [
    "### Logistic Regression"
   ]
  },
  {
   "cell_type": "code",
   "execution_count": 14,
   "metadata": {},
   "outputs": [
    {
     "data": {
      "text/plain": [
       "0.8852459016393442"
      ]
     },
     "execution_count": 14,
     "metadata": {},
     "output_type": "execute_result"
    }
   ],
   "source": [
    "logregModel = LogisticRegression(C=1, random_state=7)\n",
    "logregModel.fit(X_train, y_train)\n",
    "logregModel.score(X_test, y_test)"
   ]
  },
  {
   "cell_type": "markdown",
   "metadata": {},
   "source": [
    "This model had an approximate 89% accuracy on the test data."
   ]
  },
  {
   "cell_type": "code",
   "execution_count": 15,
   "metadata": {},
   "outputs": [
    {
     "name": "stdout",
     "output_type": "stream",
     "text": [
      "        age       sex        cp  trestbps      chol       fbs   restecg  \\\n",
      "0  0.003849 -1.389893  0.609384 -0.010705 -0.004728 -0.092204  0.217785   \n",
      "\n",
      "    thalach     exang   oldpeak     slope        ca      thal  intercept  \n",
      "0  0.028552 -0.875887 -0.510099  0.559318 -0.708902 -0.494848   0.198364  \n"
     ]
    }
   ],
   "source": [
    "#Show the coefficients of the model\n",
    "coefficients = [np.append(logregModel.coef_,[logregModel.intercept_])]\n",
    "cols = np.append(heartData.columns[:-1].values, 'intercept')\n",
    "coefDF = pd.DataFrame(coefficients,columns=cols)\n",
    "print(coefDF)"
   ]
  },
  {
   "cell_type": "markdown",
   "metadata": {},
   "source": [
    "To calculate the estimated probability for a given patient to have heart disease you multiply the value of each variable by the corresponding model coefficient and then add the intercept. Then you apply the logistic function $f(x)=\\frac{1}{1+e^{-x}}$. Therefore, in the model, there is a positive correlation between age and heart disease. Additionally, the model has, all else being equal, a female is more likely to have heart disease. Similar conclusions can be drawn from the other coefficients, where a coefficient being positive means there's a positive correlation and for negative, a negative correlation (others coefficient explanations removed for brevity). We should check for overfitting, however."
   ]
  },
  {
   "cell_type": "code",
   "execution_count": 16,
   "metadata": {},
   "outputs": [
    {
     "name": "stdout",
     "output_type": "stream",
     "text": [
      "[0.87096774 0.80645161 0.83870968 0.87096774 0.90322581 0.8\n",
      " 0.83333333 0.9        0.68965517 0.72413793]\n",
      "0.8237449017426769\n"
     ]
    }
   ],
   "source": [
    "#Cross validation\n",
    "scores = cross_val_score(logregModel, X, y, cv=10)\n",
    "print(scores)\n",
    "print(scores.mean())"
   ]
  },
  {
   "cell_type": "markdown",
   "metadata": {},
   "source": [
    "We have split the test and training data ten different ways and performed cross validation. The lowest score was 0.69 and the highest 0.9, which is quite a spread. The mean was 0.82 which is much lower than the accuracy from the initial set of 0.89. This suggests that our model is overfitting the data. We will try introducing stronger L2 regularisation. Another method could be to perform variable selection on the predictive variables on the dataset (which we won't do here)."
   ]
  },
  {
   "cell_type": "code",
   "execution_count": 17,
   "metadata": {},
   "outputs": [
    {
     "name": "stdout",
     "output_type": "stream",
     "text": [
      "0.8303040415276233\n"
     ]
    }
   ],
   "source": [
    "#stronger regularisation\n",
    "lrModel2 = LogisticRegression(C=0.5, random_state=7)\n",
    "scores = cross_val_score(lrModel2, X, y, cv=10)\n",
    "print(scores.mean())"
   ]
  },
  {
   "cell_type": "markdown",
   "metadata": {},
   "source": [
    "The stronger regularisation seems to have reduced overfitting slightly, this could be optimised using grid search. This is a simple model without interaction between terms (an additive model), we could use a logistic model with interaction but we will instead use an artificial neural network which is capable of a more complex model to see if we can improve our model."
   ]
  },
  {
   "cell_type": "markdown",
   "metadata": {},
   "source": [
    "### Neural Network"
   ]
  },
  {
   "cell_type": "code",
   "execution_count": 18,
   "metadata": {},
   "outputs": [
    {
     "data": {
      "text/plain": [
       "<keras.callbacks.History at 0x2926b2da128>"
      ]
     },
     "execution_count": 18,
     "metadata": {},
     "output_type": "execute_result"
    }
   ],
   "source": [
    "#train neural net\n",
    "np.random.seed(1)\n",
    "nnmodel = Sequential()\n",
    "nnmodel.add(Dense(13,input_dim=13,activation='relu'))\n",
    "nnmodel.add(Dense(13,activation='relu'))\n",
    "nnmodel.add(Dense(1, activation='sigmoid'))\n",
    "nnmodel.compile(loss='binary_crossentropy', optimizer='adam', metrics=['accuracy'])\n",
    "nnmodel.fit(X_train,y_train, epochs=500,batch_size=10,verbose=0)"
   ]
  },
  {
   "cell_type": "code",
   "execution_count": 19,
   "metadata": {},
   "outputs": [
    {
     "name": "stdout",
     "output_type": "stream",
     "text": [
      "0.819672131147541\n"
     ]
    }
   ],
   "source": [
    "#check accuracy\n",
    "pred = np.array([i[0] for i in nnmodel.predict(X_test)]) >= 0.5\n",
    "actual = y_test.values\n",
    "print(sum(pred == actual)/len(y_test))"
   ]
  },
  {
   "cell_type": "markdown",
   "metadata": {},
   "source": [
    "We use the commonly used ReLU (Rectified Linear Unit) activation function for the hidden layers and the sigmoid function for the output layer as we are outputing probabilities. The accuracy was worse than that of the logistic regression classifiers. A neural network model is capable of emulating a logistic regression model so can probably get a score at least as good as that model by optimising the model efficiently."
   ]
  },
  {
   "cell_type": "markdown",
   "metadata": {},
   "source": [
    "## Conclusion"
   ]
  },
  {
   "cell_type": "markdown",
   "metadata": {},
   "source": [
    "Our best model was the logistic regression model. There are many other models that could have been tried such as support vector machines, however, we have decided not to pursue those in this project. Additionally, we have left out many parts to save time and to reduce the length of the project such as cross validation for the neural network."
   ]
  }
 ],
 "metadata": {
  "kernelspec": {
   "display_name": "Python 3",
   "language": "python",
   "name": "python3"
  },
  "language_info": {
   "codemirror_mode": {
    "name": "ipython",
    "version": 3
   },
   "file_extension": ".py",
   "mimetype": "text/x-python",
   "name": "python",
   "nbconvert_exporter": "python",
   "pygments_lexer": "ipython3",
   "version": "3.6.5"
  }
 },
 "nbformat": 4,
 "nbformat_minor": 2
}
